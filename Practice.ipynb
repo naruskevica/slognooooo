{
 "cells": [
  {
   "cell_type": "code",
   "execution_count": 311,
   "metadata": {},
   "outputs": [],
   "source": [
    "from pyspark import SparkConf, SparkContext\n",
    "from pyspark.sql import SparkSession\n",
    "from itertools import combinations\n",
    "import os\n",
    "import sys\n",
    "from collections import OrderedDict\n",
    "import collections\n",
    "import csv\n",
    "os.environ['PYSPARK_PYTHON'] = sys.executable\n",
    "os.environ['PYSPARK_DRIVER_PYTHON'] = sys.executable"
   ]
  },
  {
   "cell_type": "code",
   "execution_count": 312,
   "metadata": {},
   "outputs": [],
   "source": [
    "# Change to True to run the program on full dataset\n",
    "isProd = False"
   ]
  },
  {
   "cell_type": "code",
   "execution_count": 313,
   "metadata": {},
   "outputs": [],
   "source": [
    "number_cores = 3\n",
    "memory_gb = 8\n",
    "# Create a configuration object and\n",
    "# set the name of the application\n",
    "conf = (\n",
    "    SparkConf()\n",
    "        .setAppName(\"SparkTask\")\n",
    "        .setMaster('local[{}]'.format(number_cores))\n",
    "        .set('spark.driver.memory', '{}g'.format(memory_gb))\n",
    ")\n",
    "# Create a Spark Context object\n",
    "sc = SparkContext(conf=conf)\n",
    "spr = SparkSession.builder.appName(\"naruskevica\").getOrCreate()"
   ]
  },
  {
   "cell_type": "markdown",
   "metadata": {},
   "source": [
    "# Solution"
   ]
  },
  {
   "cell_type": "code",
   "execution_count": 314,
   "metadata": {},
   "outputs": [],
   "source": [
    "# Read the input file\n",
    "if isProd:\n",
    "    if not os.path.exists('input/Reviews.csv'):\n",
    "        sc.stop()\n",
    "        raise Exception(\"\"\"\n",
    "            Download the 'Reviews.csv' file from https://www.kaggle.com/datasets/snap/amazon-fine-food-reviews\n",
    "            and put it in 'input' folder\n",
    "        \"\"\")\n",
    "    else:\n",
    "        inputRdd = sc.textFile(\"input/Reviews.csv\")\n",
    "else:\n",
    "    inputRdd = sc.textFile(\"input/Sample.csv\")\n",
    "    inputCsv = spr.read.csv(\n",
    "        path=\"input/Sample.csv\",\n",
    "        sep=\",\",\n",
    "        header=True,\n",
    "        quote='\"',\n",
    "        inferSchema=True,\n",
    "        )"
   ]
  },
  {
   "cell_type": "code",
   "execution_count": 315,
   "metadata": {},
   "outputs": [],
   "source": [
    "# Remove the header\n",
    "filteredInput = inputRdd.filter(lambda line: line.startswith(\"Id,\") == False)"
   ]
  },
  {
   "cell_type": "markdown",
   "metadata": {},
   "source": [
    "# Note\n",
    "\n",
    "Make sure you save program output to output folder"
   ]
  },
  {
   "cell_type": "markdown",
   "metadata": {},
   "source": [
    "Create tuple where first elemnt of tupele is userId and secode is list of ProductId"
   ]
  },
  {
   "cell_type": "code",
   "execution_count": 316,
   "metadata": {},
   "outputs": [],
   "source": [
    "my_map = {}\n",
    "for i in filteredInput.collect():\n",
    "    st = i.split(\",\")\n",
    "    if my_map.get(st[2]) == None:\n",
    "        my_map[st[2]] = [st[1]]\n",
    "    else:\n",
    "        new_list = my_map.get(st[2])\n",
    "        new_list.append(st[1])\n",
    "        my_map[st[2]] = new_list\n",
    "answer_list = [(i, my_map.get(i)) for i in my_map]"
   ]
  },
  {
   "cell_type": "markdown",
   "metadata": {},
   "source": [
    "Create all combination from list of purchase for every user"
   ]
  },
  {
   "cell_type": "code",
   "execution_count": 317,
   "metadata": {},
   "outputs": [],
   "source": [
    "list_of_combination = []\n",
    "for k, v in answer_list:\n",
    "    for comb in combinations(v, 2):\n",
    "        list_of_combination.append((\",\".join(comb), 1))"
   ]
  },
  {
   "cell_type": "markdown",
   "metadata": {},
   "source": [
    "Сount all combination of purchase and sort it and convert to list"
   ]
  },
  {
   "cell_type": "code",
   "execution_count": 318,
   "metadata": {},
   "outputs": [
    {
     "name": "stdout",
     "output_type": "stream",
     "text": [
      "[('B1,B5', 4), ('B3,B5', 4), ('B1,B3', 3), ('B4,B5', 2), ('B1,B1', 1), ('B3,B1', 1), ('B5,B1', 1), ('B1,B4', 1), ('B3,B4', 1), ('B5,B5', 1)]\n"
     ]
    }
   ],
   "source": [
    "def count_pair(list_of_comb):\n",
    "    dict_of_pair = {}\n",
    "    for k, v in list_of_comb:\n",
    "        if dict_of_pair.get(k) == None:\n",
    "            dict_of_pair[k] = 1\n",
    "        else:\n",
    "            count = dict_of_pair.get(k) + 1\n",
    "            dict_of_pair[k] = count\n",
    "    return dict_of_pair\n",
    "    \n",
    "dict_of_pair = count_pair(list_of_combination)\n",
    "sorted_list_pair = sorted(dict_of_pair.items(), key=lambda item: item[1], reverse=True)"
   ]
  },
  {
   "cell_type": "markdown",
   "metadata": {},
   "source": [
    "Save final result to result.csv file"
   ]
  },
  {
   "cell_type": "code",
   "execution_count": 319,
   "metadata": {},
   "outputs": [],
   "source": [
    "with open(\"output/result.csv\", \"w\", newline=\"\") as f:\n",
    "    writer = csv.writer(f)\n",
    "    writer.writerows(sorted_list_pair[0:10])"
   ]
  },
  {
   "cell_type": "markdown",
   "metadata": {},
   "source": [
    "# Stop the Spark Context"
   ]
  },
  {
   "cell_type": "code",
   "execution_count": 320,
   "metadata": {},
   "outputs": [],
   "source": [
    "sc.stop()"
   ]
  }
 ],
 "metadata": {
  "interpreter": {
   "hash": "98150487c3ea4eb7b8eab087c675bf955334d0813044dccb8841940644ac4c2f"
  },
  "kernelspec": {
   "display_name": "Python 3.8.3 64-bit ('spark-env': venv)",
   "name": "python3"
  },
  "language_info": {
   "codemirror_mode": {
    "name": "ipython",
    "version": 3
   },
   "file_extension": ".py",
   "mimetype": "text/x-python",
   "name": "python",
   "nbconvert_exporter": "python",
   "pygments_lexer": "ipython3",
   "version": "3.9.4"
  }
 },
 "nbformat": 4,
 "nbformat_minor": 4
}
