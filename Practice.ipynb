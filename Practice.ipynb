{
 "cells": [
  {
   "cell_type": "code",
   "execution_count": 16,
   "metadata": {},
   "outputs": [],
   "source": [
    "from pyspark import SparkConf, SparkContext\n",
    "import os"
   ]
  },
  {
   "cell_type": "code",
   "execution_count": 17,
   "metadata": {},
   "outputs": [],
   "source": [
    "# Change to True to run the program on full dataset\n",
    "isProd = False"
   ]
  },
  {
   "cell_type": "code",
   "execution_count": 18,
   "metadata": {},
   "outputs": [],
   "source": [
    "number_cores = 2\n",
    "memory_gb = 4\n",
    "# Create a configuration object and\n",
    "# set the name of the application\n",
    "conf = (\n",
    "    SparkConf()\n",
    "        .setAppName(\"SparkTask\")\n",
    "        .setMaster('local[{}]'.format(number_cores))\n",
    "        .set('spark.driver.memory', '{}g'.format(memory_gb))\n",
    ")\n",
    "# Create a Spark Context object\n",
    "sc = SparkContext(conf=conf)"
   ]
  },
  {
   "cell_type": "markdown",
   "metadata": {},
   "source": [
    "# Solution"
   ]
  },
  {
   "cell_type": "code",
   "execution_count": 19,
   "metadata": {},
   "outputs": [],
   "source": [
    "# Read the input file\n",
    "if isProd:\n",
    "    if not os.path.exists('input/Reviews.csv'):\n",
    "        sc.stop()\n",
    "        raise Exception(\"\"\"\n",
    "            Download the 'Reviews.csv' file from https://www.kaggle.com/datasets/snap/amazon-fine-food-reviews\n",
    "            and put it in 'input' folder\n",
    "        \"\"\")\n",
    "    else:\n",
    "        inputRdd = sc.textFile(\"input/Reviews.csv\")\n",
    "else:\n",
    "    inputRdd = sc.textFile(\"input/Sample.csv\")"
   ]
  },
  {
   "cell_type": "code",
   "execution_count": 20,
   "metadata": {},
   "outputs": [],
   "source": [
    "# Remove the header\n",
    "filteredInput = inputRdd.filter(lambda line: line.startswith(\"Id,\") == False)"
   ]
  },
  {
   "cell_type": "markdown",
   "metadata": {},
   "source": [
    "# Note\n",
    "\n",
    "Make sure you save program output to **output** folder"
   ]
  },
  {
   "cell_type": "code",
   "execution_count": 21,
   "metadata": {},
   "outputs": [],
   "source": [
    "# Your code starts here\n"
   ]
  },
  {
   "cell_type": "markdown",
   "metadata": {},
   "source": [
    "# Stop the Spark Context"
   ]
  },
  {
   "cell_type": "code",
   "execution_count": 22,
   "metadata": {},
   "outputs": [],
   "source": [
    "sc.stop()"
   ]
  }
 ],
 "metadata": {
  "interpreter": {
   "hash": "98150487c3ea4eb7b8eab087c675bf955334d0813044dccb8841940644ac4c2f"
  },
  "kernelspec": {
   "display_name": "Python 3.8.3 64-bit ('spark-env': venv)",
   "name": "python3"
  },
  "language_info": {
   "codemirror_mode": {
    "name": "ipython",
    "version": 3
   },
   "file_extension": ".py",
   "mimetype": "text/x-python",
   "name": "python",
   "nbconvert_exporter": "python",
   "pygments_lexer": "ipython3",
   "version": "3.8.12"
  }
 },
 "nbformat": 4,
 "nbformat_minor": 4
}
